{
 "cells": [
  {
   "cell_type": "markdown",
   "metadata": {},
   "source": [
    "# Capstone Project - Car accident severity (Week 1)\n",
    "### by Pratibha"
   ]
  },
  {
   "cell_type": "markdown",
   "metadata": {},
   "source": [
    "## DATA SECTION"
   ]
  },
  {
   "cell_type": "markdown",
   "metadata": {},
   "source": [
    "#### We will use france's accident data from 2005 - 2016, which can be obtained from https://www.kaggle.com/ahmedlahlou/accidents-in-france-from-2005-to-2016\n",
    "\n",
    "#### it consits of 5 datas which are as followed\n",
    "\n",
    "__1.caracteristics.csv__\n",
    "\n",
    "__2.holidays.csv__\n",
    "\n",
    "__3.places.csv__\n",
    "\n",
    "__4.users.csv__\n",
    "\n",
    "__5.vehicles.csv__"
   ]
  },
  {
   "cell_type": "markdown",
   "metadata": {},
   "source": [
    "### we will use this data and anylyse it and tyhen do data minnig and make sure we have a usefull data which can we used to predict"
   ]
  },
  {
   "cell_type": "code",
   "execution_count": null,
   "metadata": {},
   "outputs": [],
   "source": []
  }
 ],
 "metadata": {
  "kernelspec": {
   "display_name": "Python 3",
   "language": "python",
   "name": "python3"
  },
  "language_info": {
   "codemirror_mode": {
    "name": "ipython",
    "version": 3
   },
   "file_extension": ".py",
   "mimetype": "text/x-python",
   "name": "python",
   "nbconvert_exporter": "python",
   "pygments_lexer": "ipython3",
   "version": "3.8.3"
  }
 },
 "nbformat": 4,
 "nbformat_minor": 4
}
